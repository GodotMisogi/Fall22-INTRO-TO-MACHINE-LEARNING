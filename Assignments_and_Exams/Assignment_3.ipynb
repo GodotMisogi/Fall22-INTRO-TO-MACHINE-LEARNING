{
 "cells": [
  {
   "cell_type": "markdown",
   "metadata": {},
   "source": [
    "## <h1><center>Course: Introduction to Machine Learning</center></h1>\n",
    "## <h1><center>Assigment 3</center></h1>\n",
    "### <h1><center>Important NOTE: In order to get full grades, for every question, you need to provide the details of your work on how to get to a solution or the end of the proof</center></h1>\n",
    "#### <h1><center>Instructor: Tan Bui-Thanh</center></h1>\n",
    "#### <h1><center>TA: Hai Nguyen</center></h1>\n",
    "##### <h1><center>Due day: 11:00 pm, Monday, 03 October, 2022 </center></h1>\n",
    "#### If you gonna use this jupyter notebook for the assignment, please convert to .pdf file for submission. All submission must be in pdf format except codes."
   ]
  },
  {
   "cell_type": "markdown",
   "metadata": {},
   "source": [
    "## **Question 1** (Probability + random variables) (20+)\n",
    "\n",
    "Consider $\\Omega = [-2, 2]$ and define \n",
    "$$P[B \\subset \\Omega] := \\int_{B} \\frac{1}{4} d \\omega, \\text{ and thus }\n",
    "P[d\\omega] := \\frac{1}{4} d \\omega,\n",
    "$$\n",
    "that is the elementary event $\\omega$ is the uniform random variable on $\\Omega$.\n",
    "Now, define $M(\\omega)$ as: \n",
    "\\begin{align}\n",
    "    &M(\\omega) =\n",
    "    \\begin{cases} \n",
    "        2 & \\text{ if } \\omega \\geq 0\\\\\n",
    "        0 & \\text{ else }\n",
    "    \\end{cases}\n",
    "\\end{align}\n",
    "$ \\implies \\text{ the state space is given by } S = \\left\\{ 0, 2 \\right\\}$. What is $E[M]$? What are $ \\mu_M [M=2]$ and $ \\mu_M [M=0]$?\n",
    "\n",
    "\n",
    "\n",
    "## **Question 2** (Monte-Carlo approximation) (30+)\n",
    "\n",
    "1. Write a Python program to estimate pi using Monte-Carlo approximation. Report a number of samples that allow you to obtain 2 digits of accuracy for pi. Hint: Drawing independently $x^i$, $x^i$ fron uniform distribution $\\mathcal{U}[0,1]$. Probability of points inside the circile of radius of 1 is $\\pi/4$.\n",
    "\n",
    "2. Notice that using elementary calculus the area of the first quarter of or a disk of radius $1$ can also be computed as\n",
    "$$ \\frac{\\pi}{4} = \\int_0^1 \\sqrt{1-x^2} dx = E[\\sqrt{1-X^2}]$$\n",
    "where X is the uniform random variable U [0, 1]. Describe how you are going to use the Monte-Carlo to estimate $\\pi/4$ in this case. Write a Python code to estimate π. Report a number of samples that allow you to obtain 2 digits of accuracy for $\\pi$.\n",
    "\n",
    "3. Compare to the preceding methods, which approach converges faster (i.e. you get a smaller N)? Explain your answer. \n",
    "\n",
    "Hint: use need to run a few hunreds of random seed cases and for each random seed drawing about 10000 samples. Then, compute the expectation (average over random seed cases the estimated $\\pi$) and variance of each method. from that you can explain correctly. \n",
    "\n",
    "## **Question 3** (Probabilistic regression) (50+)\n",
    "\n",
    "1.) Consider $y = f(x) = a_4x^4 + a_3x^3 + a_2x^2 + a_1x + a_0$, and you pick $(a_0,a_1,a_2, a_3, a_4)$ (See Homework 2 problem 1 as a reference). First, you generate some N (you pick N) noisy data samples by\n",
    "- Draw gaussian samples $x^i \\sim \\mathcal{N}(0, 2)$\n",
    "- Generate noisy y, i.e., $y^i = f(x^i) + \\epsilon$, where $\\epsilon \\sim \\mathcal{N}(0, \\delta^2)$, and you pick small noise level $\\delta$\n",
    "\n",
    "2.a) Similar to the Lecture 5.b, but now choose the Gaussian likelihood model with polynomial regression of order $10$ for conditional distribution of $y$ given $x$ and $\\theta$\n",
    "$$p(y | x; \\theta).$$\n",
    "Here we choose $\\sigma = \\delta$. From N samples $(x^i, y^i)$, derive the optimal $\\theta^*$ by the maximum conditional likelihood function approach.\n",
    "\n",
    "2.b) Determine the mean of conditional distribution $p(y | x; \\theta^*)$\n",
    "as function of x and then plotting this mean together with the training data.\n",
    "\n",
    "2.c) Find the variance of conditional distribution $$p(y | x; \\theta^*)$$\n",
    "Then, plot ($y \\pm \\sigma$) curve on top of your figure in 2.b).\n",
    "\n",
    "2.d) This question is for gererating the testing data and plotting them. Draw $x^i \\sim \\mathcal{N}(0, 2)$, for $i=1,...,50$, and then compute $y^i = f_{\\theta^*}(x^i) + \\epsilon$. Plotting these 50 pairs $(x^i, y^i)$ in the same figure. What is the percentage of points that are within the uncertainty band? Discuss the result.\n",
    "\n",
    "3.a) From N samples $(x^i, y^i)$, finding the optimal $\\theta^*$ by optimizing the model using the MAP approach (see Lecture 5b and you need to derive MAP function). The variance for prior Gaussian distribution of $\\theta$ should be a reasonable value (it has the same meaning as the regularization parameter)\n",
    "\n",
    "3.b.c.d) reapeating steps 2.b.c.d, then discuss the difference. \n"
   ]
  }
 ],
 "metadata": {
  "kernelspec": {
   "display_name": "Python 3",
   "language": "python",
   "name": "python3"
  },
  "language_info": {
   "codemirror_mode": {
    "name": "ipython",
    "version": 3
   },
   "file_extension": ".py",
   "mimetype": "text/x-python",
   "name": "python",
   "nbconvert_exporter": "python",
   "pygments_lexer": "ipython3",
   "version": "3.6.9"
  },
  "vscode": {
   "interpreter": {
    "hash": "21be62648f8e3839c3b4ce05d43053c0ccba5ecc90dec2be15f843391ed2568c"
   }
  }
 },
 "nbformat": 4,
 "nbformat_minor": 2
}
