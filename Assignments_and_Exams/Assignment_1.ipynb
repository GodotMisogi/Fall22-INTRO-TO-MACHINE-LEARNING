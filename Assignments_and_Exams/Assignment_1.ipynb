{
 "cells": [
  {
   "cell_type": "markdown",
   "metadata": {},
   "source": [
    "<h1><center></center></h1>\n",
    "\n",
    "# <h1><center>Course: Introduction to Machine Learning</center></h1>\n",
    "\n",
    "# <h1><center>Assigment 1</center></h1>\n",
    "\n",
    "## <h1><center>**Important NOTE: In order to get full grades, for every question, you need to provide the details of your work on how to get to a solution or the end of the proof**</center></h1>\n",
    "\n",
    "### <h1><center>Instructor: Tan Bui-Thanh</center></h1>\n",
    "### <h1><center>TA: Hai Nguyen</center></h1>\n",
    "\n",
    "#### <h1><center>Due day: 11:00 pm, Thursday, 08, September, 2022 </center></h1>\n",
    "\n",
    "### If you gonna use this jupyter notebook for the assignment, please convert to .pdf file for submission. For other cases, .pdf format is preferred.\n",
    "### If you have questions, please submit to [our piazza channel](piazza.com/utexas/fall2022/em397)."
   ]
  },
  {
   "cell_type": "markdown",
   "metadata": {},
   "source": []
  },
  {
   "cell_type": "markdown",
   "metadata": {},
   "source": [
    "## **Question 1** (Linear regression for 2 linear features)\n",
    "\n",
    "Loading UCI Diabetes Dataset and considering the *BMI* and *BP* features, denoted as $x_1, x_2$, respectively. And, the diabetes risk score is the target denoted as $y$. We assuming the linear model has the form of\n",
    "\n",
    "$$ \\bar{y} = 0.4638 + \\theta_1 x_1 + \\theta_2 x_2.$$\n",
    "\n",
    "The mean square error loss function\n",
    "\n",
    "$$J(\\theta)=\\frac{1}{2}\\sum_{i=1}^n(y^{(i)}-\\bar{y}^{(i)})^2$$\n",
    "where $n$ is the number of patients\n",
    "\n",
    "- (1.a) (+25 pt) Using the gradient descent algorithm to find the optimal $\\theta_1$ and $\\theta_2$. (Please using the pseudo code below).\n",
    "\n",
    "- (1.b) (+5 pt) Plotting the contour map of the loss function over the square domain $[0,4]^2$\n",
    "\n",
    "- (1.c) (+10 pt) Plotting the gradient descent direction lines on the contour map from two initial guess $(\\theta_1, \\theta_2) = (4,4)$ and $(\\theta_1, \\theta_2) = (0,0)$. (You should plot a point each 100 iterations)"
   ]
  },
  {
   "cell_type": "code",
   "execution_count": null,
   "metadata": {},
   "outputs": [],
   "source": [
    "import numpy as np\n",
    "import matplotlib.pyplot as plt\n",
    "plt.rcParams['figure.figsize'] = [8, 4]\n",
    "\n",
    "import pandas as pd\n",
    "from sklearn import datasets\n",
    "\n",
    "def f(...):\n",
    "    # [your work!]\n",
    "    return ...\n",
    "\n",
    "def mean_squared_error(...):\n",
    "    # [your work!]\n",
    "    return ...\n",
    "\n",
    "def mse_gradient(...):\n",
    "    # [your work!]\n",
    "    return ...\n",
    "\n",
    "# Load the diabetes dataset\n",
    "X, y = datasets.load_diabetes(return_X_y=True, as_frame=True)\n",
    "# Collect 20 data points and use bmi and bp dimension\n",
    "X_train = X.iloc[-20:].loc[:, ['bmi', 'bp']]\n",
    "y_train = y.iloc[-20:] / 300\n",
    "\n",
    "threshold = 1e-6\n",
    "step_size = 4e-1\n",
    "theta =  # [your work!] np.array([0,0]) or np.array([4,4]) for (1.c)\n",
    "theta_prev = np.array([1,1])\n",
    "\n",
    "# [your work!]\n",
    "\n",
    "while np.linalg.norm(theta - theta_prev) > threshold:\n",
    "    # [your work!]"
   ]
  },
  {
   "cell_type": "markdown",
   "metadata": {},
   "source": []
  },
  {
   "cell_type": "markdown",
   "metadata": {},
   "source": [
    "## **Question 2** (Linear regression for 2 nonlinear features, Multivariate Polynomial Regression)\n",
    "\n",
    "We still use the pairs of *BMI* and *BP* features ($x_1, x_2$). However, the linear model now is changed to\n",
    "\n",
    "$$ \\bar{y} = \\theta_0 + \\theta_1 x_1 + \\theta_2 x_2 + \\theta_3 x_1 x_2 + \\theta_4 x_1^2 + \\theta_5 x_2^2$$\n",
    "\n",
    "The mean square error loss function\n",
    "\n",
    "$$J(\\theta)=\\frac{1}{2}\\sum_{i=1}^n(y^{(i)}-\\bar{y}^{(i)})^2$$\n",
    "where $n$ is the number of patients\n",
    "\n",
    "- (2.a) (+30 pt) Using the gradient descent algorithm to find the optimal $\\theta_i, i = 0, ..., 5$"
   ]
  },
  {
   "cell_type": "code",
   "execution_count": null,
   "metadata": {},
   "outputs": [],
   "source": [
    "import numpy as np\n",
    "import matplotlib.pyplot as plt\n",
    "plt.rcParams['figure.figsize'] = [8, 4]\n",
    "\n",
    "import pandas as pd\n",
    "from sklearn import datasets\n",
    "\n",
    "def f(...):\n",
    "    # [your work!]\n",
    "    return ...\n",
    "\n",
    "def mean_squared_error(...):\n",
    "    # [your work!]\n",
    "    return ...\n",
    "\n",
    "def mse_gradient(...):\n",
    "    # [your work!]\n",
    "    return ...\n",
    "\n",
    "# Load the diabetes dataset\n",
    "X, y = datasets.load_diabetes(return_X_y=True, as_frame=True)\n",
    "# Collect 20 data points and use bmi and bp dimension\n",
    "X_train = X.iloc[-20:].loc[:, ['bmi', 'bp']]\n",
    "y_train = y.iloc[-20:] / 300\n",
    "\n",
    "threshold = 1e-6\n",
    "step_size = 4e-1\n",
    "theta, theta_prev = np.array([0,0,0,0,0,0]), np.array([1,1,1,1,1,1])\n",
    "iter = 0\n",
    "# [your work!]\n",
    "\n",
    "while np.linalg.norm(theta - theta_prev) > threshold:\n",
    "    if iter > 200000:\n",
    "        break\n",
    "    # [your work!]"
   ]
  },
  {
   "cell_type": "markdown",
   "metadata": {},
   "source": []
  },
  {
   "cell_type": "markdown",
   "metadata": {},
   "source": [
    "## **Question 3** (Linear regression for 2 nonlinear features)\n",
    "\n",
    "Now instead of using gradient descent in question 2, you shall use the ordinary least squares approach to \n",
    "\n",
    "- (3.a) (+30 pt) derive the optimal solution $$\\theta^* = ( \\theta_0, \\theta_1,\\theta_2,\\theta_3,\\theta_4,\\theta_5)$$\n",
    "\n",
    "- (3.b) (Bounus +10): Is your $\\theta^*$ is exactly the same as the question 2? Can you give the reason why (Yes/No)?"
   ]
  },
  {
   "cell_type": "code",
   "execution_count": null,
   "metadata": {},
   "outputs": [],
   "source": []
  }
 ],
 "metadata": {
  "kernelspec": {
   "display_name": "Python 3.6.9 ('skitlearn')",
   "language": "python",
   "name": "python3"
  },
  "language_info": {
   "codemirror_mode": {
    "name": "ipython",
    "version": 3
   },
   "file_extension": ".py",
   "mimetype": "text/x-python",
   "name": "python",
   "nbconvert_exporter": "python",
   "pygments_lexer": "ipython3",
   "version": "3.6.9"
  },
  "orig_nbformat": 4,
  "vscode": {
   "interpreter": {
    "hash": "21be62648f8e3839c3b4ce05d43053c0ccba5ecc90dec2be15f843391ed2568c"
   }
  }
 },
 "nbformat": 4,
 "nbformat_minor": 2
}
