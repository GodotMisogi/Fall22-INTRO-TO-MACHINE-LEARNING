{
 "cells": [
  {
   "cell_type": "markdown",
   "metadata": {},
   "source": [
    "## <h1><center>Course: Introduction to Machine Learning</center></h1>\n",
    "## <h1><center>Assigment 5</center></h1>\n",
    "### <h1><center>Important NOTE: In order to get full grades, for every question, you need to provide the details of your work on how to get to a solution or the end of the proof</center></h1>\n",
    "#### <h1><center>Instructor: Tan Bui-Thanh</center></h1>\n",
    "#### <h1><center>TA: Hai Nguyen</center></h1>\n",
    "##### <h1><center>Due day: , 2022 </center></h1>\n",
    "#### All solutions must be in one pdf file except codes."
   ]
  },
  {
   "cell_type": "markdown",
   "metadata": {},
   "source": [
    "$\\newcommand{\\LRp}[1]{\\left( #1 \\right)}$ \n",
    "$\\newcommand{\\LRs}[1]{\\left[ #1 \\right]}$ \n",
    "$\\newcommand{\\LRa}[1]{\\left< #1 \\right>}$ \n",
    "$\\newcommand{\\LRc}[1]{\\left\\{ #1 \\right\\}}$ \n",
    "$\\newcommand{\\prob}[1]{P\\LRs{#1}}$\n",
    "$\\newcommand{\\Dis}[2]{\\mathcal{N}\\LRp{#1, #2}}$\n",
    "$\\newcommand{\\t}{\\theta}$\n",
    "$\\newcommand{\\d}{\\mathcal{D}}$\n",
    "$\\newcommand{\\s}{\\mathcal{S}}$\n",
    "$\\newcommand{\\yi}{y^{(i)}}$\n",
    "$\\newcommand{\\xid}{x^{(i)}}$\n",
    "$\\newcommand{\\grad}[2]{\\nabla_{#1}\\LRp{#2}}$"
   ]
  },
  {
   "cell_type": "markdown",
   "metadata": {},
   "source": [
    "## Question 1:\n",
    "\n",
    "In seperable problems, we can achieve the optimal $\\lambda$ by solving dual optimization problems. Assume that our marginal model for a data point is \n",
    "\n",
    "$$\\gamma^{(i)} = y^{(i)} \\LRp{\\t^T \\phi(x^{(i)}) + \\t_0}$$\n",
    "\n",
    "What is formula for $\\t^*$. And, show that\n",
    "\n",
    "$$\\t_0^* = \\frac{1}{N_\\s} \\sum_{i \\in \\s} \\LRp{\\yi - \\sum_{j \\in \\s} \\lambda_j y^{(j)}\\LRp{\\phi(x)^{(i)}}^T \\phi(x)^{(j)} }, $$\n",
    "\n",
    "where $\\s$ denotes the set of all support vectors. (which is stable version to compute $\\t_0^*$).\n"
   ]
  },
  {
   "cell_type": "markdown",
   "metadata": {},
   "source": [
    "## Question 2: (I am not sure about this question)\n",
    "\n",
    "1. Given the model \n",
    "\n",
    "$$y = \\t^T \\phi(x) + \\epsilon .$$\n",
    "\n",
    "Derive the kernel form of Ridge Regression problem.\n",
    "\n",
    "2. Can we use the Radial basis Kernel for prediction? Why/why not?\n"
   ]
  },
  {
   "cell_type": "markdown",
   "metadata": {},
   "source": []
  },
  {
   "cell_type": "code",
   "execution_count": null,
   "metadata": {},
   "outputs": [],
   "source": []
  },
  {
   "cell_type": "code",
   "execution_count": null,
   "metadata": {},
   "outputs": [],
   "source": []
  }
 ],
 "metadata": {
  "kernelspec": {
   "display_name": "Python 3",
   "language": "python",
   "name": "python3"
  },
  "language_info": {
   "codemirror_mode": {
    "name": "ipython",
    "version": 3
   },
   "file_extension": ".py",
   "mimetype": "text/x-python",
   "name": "python",
   "nbconvert_exporter": "python",
   "pygments_lexer": "ipython3",
   "version": "3.6.9"
  },
  "vscode": {
   "interpreter": {
    "hash": "21be62648f8e3839c3b4ce05d43053c0ccba5ecc90dec2be15f843391ed2568c"
   }
  }
 },
 "nbformat": 4,
 "nbformat_minor": 2
}
