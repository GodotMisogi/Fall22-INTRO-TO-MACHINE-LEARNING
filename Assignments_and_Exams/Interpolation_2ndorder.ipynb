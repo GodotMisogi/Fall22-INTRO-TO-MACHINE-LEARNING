{
 "cells": [
  {
   "cell_type": "code",
   "execution_count": 1,
   "metadata": {},
   "outputs": [
    {
     "data": {
      "text/plain": [
       "(-4.0, 3.0)"
      ]
     },
     "execution_count": 1,
     "metadata": {},
     "output_type": "execute_result"
    },
    {
     "name": "stderr",
     "output_type": "stream",
     "text": [
      "findfont: Font family ['TimesNewRoman'] not found. Falling back to DejaVu Sans.\n"
     ]
    },
    {
     "data": {
      "image/png": "[encoded data removed]",
      "text/plain": [
       "<Figure size 576x288 with 1 Axes>"
      ]
     },
     "metadata": {
      "needs_background": "light"
     },
     "output_type": "display_data"
    }
   ],
   "source": [
    "import warnings\n",
    "warnings.filterwarnings(\"ignore\", category=FutureWarning)\n",
    "warnings.filterwarnings('ignore')\n",
    "import matplotlib.pyplot as plt\n",
    "import pandas as pd\n",
    "import matplotlib\n",
    "import matplotlib.pylab as pylab\n",
    "from matplotlib.lines import Line2D\n",
    "\n",
    "import numpy as np\n",
    "import matplotlib.pyplot as plt\n",
    "plt.rcParams['figure.figsize'] = [8, 4]\n",
    "params = {'legend.fontsize': 14,\n",
    "         'axes.labelsize': 14,\n",
    "         'axes.titlesize': 20,\n",
    "         'xtick.labelsize':14,\n",
    "         'ytick.labelsize':14}\n",
    "pylab.rcParams.update(params)\n",
    "\n",
    "matplotlib.rcParams['mathtext.fontset'] = 'cm'\n",
    "matplotlib.rcParams['mathtext.rm'] = 'serif'\n",
    "\n",
    "plt.rcParams[\"font.family\"] = \"TimesNewRoman\"\n",
    "\n",
    "import pandas as pd\n",
    "from sklearn import datasets\n",
    "np.random.seed(0)\n",
    "\n",
    "from sklearn.pipeline import Pipeline\n",
    "from sklearn.preprocessing import PolynomialFeatures\n",
    "from sklearn.linear_model import LinearRegression, Ridge, ElasticNet, Lasso, LogisticRegression\n",
    "\n",
    "\n",
    "\n",
    "def true_fn(X):\n",
    "    f = np.sin(1/2 * np.pi * X)**2\n",
    "    return f\n",
    "\n",
    "def true_dfn(X):\n",
    "    f = np.pi * np.sin(1/2 * np.pi * X) * np.cos(1/2 * np.pi * X)\n",
    "    return f\n",
    "\n",
    "def true_ddfn(X):\n",
    "    f = - 1/2 * np.pi**2 * np.sin(1/2 * np.pi * X) * np.sin(1/2 * np.pi * X) + 1/2 * np.pi**2 * np.cos(1/2 * np.pi * X) * np.cos(1/2 * np.pi * X)\n",
    "    return f\n",
    "\n",
    "# Test samples\n",
    "# n_train = 10\n",
    "\n",
    "\n",
    "noise_level = 0.00\n",
    "X_train = np.array([-2.7, -1.8, -1.3, -1, -.5, 1.8]) \n",
    "# X_train = np.sort(np.random.randn(100)) \n",
    "Y_train = true_fn(X_train) + np.random.randn(X_train.shape[0]) * noise_level\n",
    "\n",
    "# Training samples\n",
    "n_samples = 20\n",
    "\n",
    "X_test = np.sort(np.random.randn(n_samples)) \n",
    "# X_test = np.array([-2.5, -1.5, -1, -.5, 1, 2]) \n",
    "Y_test = true_fn(X_test)\n",
    "\n",
    "X_true = np.linspace(-3., 3., 100)\n",
    "\n",
    "plt.plot(X_true,true_fn(X_true),'g',label = 'True function')\n",
    "plt.scatter(X_test,Y_test, edgecolor='b', s=20, facecolor = 'b', label=\"Test Samples\")\n",
    "plt.scatter(X_train,Y_train, edgecolor='r', facecolor = 'r', s=20, label=\"Train Samples\")\n",
    "plt.legend()\n",
    "\n",
    "plt.xlim((-4,3))"
   ]
  },
  {
   "cell_type": "code",
   "execution_count": 2,
   "metadata": {},
   "outputs": [],
   "source": [
    "order_poly = 10\n",
    "\n",
    "def fx_eval(theta):\n",
    "    fx = np.zeros((X_train.shape[0]))\n",
    "    for i in range(order_poly):\n",
    "        fx += theta[i] * X_train**i\n",
    "    return np.linalg.norm(fx - true_fn(X_train)) \n",
    "    \n",
    "def dfx_eval(theta):\n",
    "    dfx = np.zeros((X_train.shape[0]))\n",
    "    for i in range(1, order_poly):\n",
    "        dfx += theta[i] * (i) * X_train**(i-1)\n",
    "    return np.linalg.norm(dfx - true_dfn(X_train)) \n",
    "\n",
    "def ddfx_eval(theta):\n",
    "    ddfx = np.zeros((X_train.shape[0]))\n",
    "    for i in range(2, order_poly):\n",
    "        ddfx += theta[i] * (i) * (i-1) * X_train**(i-2)\n",
    "    return np.linalg.norm(ddfx - true_ddfn(X_train)) \n"
   ]
  },
  {
   "cell_type": "code",
   "execution_count": 3,
   "metadata": {},
   "outputs": [],
   "source": [
    "from scipy.optimize import minimize\n",
    "\n",
    "def f_total(theta):\n",
    "    return fx_eval(theta)\n",
    "def df_total(theta):\n",
    "    return fx_eval(theta) + dfx_eval(theta)\n",
    "def ddf_total(theta): \n",
    "    return 10 * fx_eval(theta) + dfx_eval(theta)  + ddfx_eval(theta)\n",
    "    # return fx_eval(theta) + dfx_eval(theta) + fx_eval(theta)\n",
    "\n",
    "resfx = minimize(f_total, np.ones(order_poly), method='BFGS')\n",
    "dresfx = minimize(df_total, np.ones(order_poly), method='BFGS')\n",
    "ddresfx = minimize(ddf_total, np.ones(order_poly), method='BFGS')\n",
    "\n"
   ]
  },
  {
   "cell_type": "code",
   "execution_count": 4,
   "metadata": {},
   "outputs": [],
   "source": [
    "def fx_pred(theta, X):\n",
    "    fx = np.zeros((X.shape[0]))\n",
    "    for i in range(order_poly):\n",
    "        fx += theta[i] * X**i\n",
    "    return fx"
   ]
  },
  {
   "cell_type": "code",
   "execution_count": 37,
   "metadata": {},
   "outputs": [],
   "source": [
    "from turtle import fillcolor\n",
    "\n",
    "\n",
    "fig = plt.figure(figsize = (8,8))\n",
    "plt.plot(X_true, true_fn(X_true),'-k',label = 'True ' + r'$f(x)$')\n",
    "plt.plot(X_true, fx_pred(resfx.x, X_true), '-m', dashes=(4, 4),  markevery= int(5), label='Pred ' + r'$f(x)$'+': Loss = ' + r'$\\mathcal{L}^{{TNet}}$')\n",
    "plt.plot(X_true, fx_pred(dresfx.x, X_true), '--b', dashes=(2, 2),  markevery= int(5), label='Pred ' + r'$f(x)$'+': Loss = ' + r'$\\mathcal{L}^{{TNet}} + \\mathcal{P}_3$')\n",
    "plt.plot(X_true, fx_pred(ddresfx.x, X_true), '-r',  markevery= int(5), label='Pred ' + r'$f(x)$'+': Loss = ' + r'$\\mathcal{L}^{{TNet}}+ \\mathcal{P}_3+ \\mathcal{P}_4$')\n",
    "\n",
    "plt.scatter(X_train,Y_train, marker = 'o', edgecolor='k', facecolor = 'k', s=80, label='Training Points')\n",
    "\n",
    "# plt.legend(loc = 'best')\n",
    "plt.legend(bbox_to_anchor=(.37, .84), loc = 'center', ncol = 1)\n",
    "\n",
    "plt.xlim((-3,2.2))\n",
    "plt.ylim((-0.5,2.))\n",
    "\n",
    "plt.savefig('2dn_visulaizations.pdf', bbox_inches='tight')\n",
    "plt.close()\n"
   ]
  },
  {
   "cell_type": "code",
   "execution_count": null,
   "metadata": {},
   "outputs": [],
   "source": []
  },
  {
   "cell_type": "code",
   "execution_count": null,
   "metadata": {},
   "outputs": [],
   "source": []
  },
  {
   "cell_type": "code",
   "execution_count": null,
   "metadata": {},
   "outputs": [],
   "source": []
  }
 ],
 "metadata": {
  "kernelspec": {
   "display_name": "Python 3",
   "language": "python",
   "name": "python3"
  },
  "language_info": {
   "codemirror_mode": {
    "name": "ipython",
    "version": 3
   },
   "file_extension": ".py",
   "mimetype": "text/x-python",
   "name": "python",
   "nbconvert_exporter": "python",
   "pygments_lexer": "ipython3",
   "version": "3.6.9"
  },
  "vscode": {
   "interpreter": {
    "hash": "21be62648f8e3839c3b4ce05d43053c0ccba5ecc90dec2be15f843391ed2568c"
   }
  }
 },
 "nbformat": 4,
 "nbformat_minor": 2
}
