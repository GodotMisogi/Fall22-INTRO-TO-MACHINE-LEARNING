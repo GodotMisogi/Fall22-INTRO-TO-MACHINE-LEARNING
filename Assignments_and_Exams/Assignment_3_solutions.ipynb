{
  "cells": [
    {
      "cell_type": "markdown",
      "metadata": {
        "id": "Z6-TaPGxcpFA"
      },
      "source": [
        "## <h1><center>Course: Introduction to Machine Learning</center></h1>\n",
        "## <h1><center>Assigment 3 - Solutions</center></h1>\n",
        "### <h1><center>Important NOTE: In order to get full grades, for every question, you need to provide the details of your work on how to get to a solution or the end of the proof</center></h1>\n",
        "#### <h1><center>Instructor: Tan Bui-Thanh</center></h1>\n",
        "#### <h1><center>TA: Hai Nguyen</center></h1>\n",
        "##### <h1><center>Due day: 11:00 pm, Monday, 03 October, 2022 </center></h1>\n",
        "#### If you gonna use this jupyter notebook for the assignment, please convert to .pdf file for submission. All submission must be in pdf format except codes."
      ]
    },
    {
      "cell_type": "markdown",
      "metadata": {
        "id": "baL8lejvcpFB"
      },
      "source": [
        "## **Question 1** (Probability + random variables) (20+)\n",
        "\n",
        "Consider $\\Omega = [-2, 2]$ and define \n",
        "$$P[B \\subset \\Omega] := \\int_{B} \\frac{1}{4} d \\omega, \\text{ and thus }\n",
        "P[d\\omega] := \\frac{1}{4} d \\omega,\n",
        "$$\n",
        "that is the elementary event $\\omega$ is the uniform random variable on $\\Omega$.\n",
        "Now, define $M(\\omega)$ as: \n",
        "\\begin{align}\n",
        "    &M(\\omega) =\n",
        "    \\begin{cases} \n",
        "        2 & \\text{ if } \\omega \\geq 0\\\\\n",
        "        0 & \\text{ else }\n",
        "    \\end{cases}\n",
        "\\end{align}\n",
        "$ \\implies \\text{ the state space is given by } S = \\left\\{ 0, 2 \\right\\}$. What is $E[M]$? What are $ \\mu_M [M=2]$ and $ \\mu_M [M=0]$?\n",
        "\n",
        "\n",
        "\n",
        "## **Question 2** (Monte-Carlo approximation) (30+)\n",
        "\n",
        "1. Write a Python program to estimate pi using Monte-Carlo approximation. Report a number of samples that allow you to obtain 2 digits of accuracy for pi. Hint: Drawing independently $x^i$, $x^i$ fron uniform distribution $\\mathcal{U}[0,1]$. Probability of points inside the circile of radius of 1 is $\\pi/4$.\n",
        "\n",
        "2. Notice that using elementary calculus the area of the first quarter of or a disk of radius $1$ can also be computed as\n",
        "$$ \\frac{\\pi}{4} = \\int_0^1 \\sqrt{1-x^2} dx = E[\\sqrt{1-X^2}]$$\n",
        "where X is the uniform random variable U [0, 1]. Describe how you are going to use the Monte-Carlo to estimate $\\pi/4$ in this case. Write a Python code to estimate π. Report a number of samples that allow you to obtain 2 digits of accuracy for $\\pi$.\n",
        "\n",
        "3. Compare to the preceding methods, which approach converges faster (i.e. you get a smaller N)? Explain your answer. \n",
        "\n",
        "Hint: use need to run a few hunreds of random seed cases and for each random seed drawing about 10000 samples. Then, compute the expectation (average over random seed cases the estimated $\\pi$) and variance of each method. from that you can explain correctly. \n",
        "\n"
      ]
    },
    {
      "cell_type": "markdown",
      "metadata": {
        "id": "P0sEKoLe83mI"
      },
      "source": [
        "<br>\n",
        "<b> Question 1 </b>\n",
        "\n",
        "Given $\\Omega = [-2, 2]$  \n",
        "$$P[B \\subset \\Omega] := \\int_{B} \\frac{1}{4} d \\omega, \\text{ }\n",
        "P[d\\omega] := \\frac{1}{4} d \\omega,\n",
        "$$\n",
        "\n",
        "The elementary event $\\omega$ is the uniform random variable on $\\Omega$.\n",
        "\n",
        "Now, \n",
        "\\begin{align}\n",
        "    &M(\\omega) =\n",
        "    \\begin{cases} \n",
        "        2 & \\text{ if } \\omega \\geq 0\\\\\n",
        "        0 & \\text{ else }\n",
        "    \\end{cases}\n",
        "\\end{align}\n",
        "$ \\implies \\text{ the state space is given by } S = \\left\\{ 0, 2 \\right\\}$. \n",
        "\n",
        "<br>\n",
        "\n",
        "To find: $E[M]$\n",
        "\n",
        "We know that, $$E[M] = \\int_S m \\mu_M (dm) = \\int_\\Omega M(\\omega) P[d\\omega] $$\n",
        "$$ \\implies E[M] = \\int_\\Omega M(\\omega) \\frac{1}{4} d \\omega $$\n",
        "$$  \\implies E[M] = \\int_0^2 2 \\frac{1}{4} d\\omega $$\n",
        "$$  \\implies E[M] = 1 $$\n",
        "\n",
        "Now, to find $ \\mu_M [M=2]$ and $ \\mu_M [M=0]$\n",
        "\n",
        "<br>\n",
        "We know, for any random variable $A$\n",
        "\n",
        "$$\\mu_M[A] = P[B] \\implies B = M ^ {-1} [A] \\implies M[B] = A $$\n",
        "\n",
        "<br>\n",
        "\n",
        "For $M = 2$, $B = (0,2]$\n",
        "Therefore, \n",
        "\n",
        "$$P[B] = \\int_0^2 \\frac{1}{4}d\\omega = \\frac{1}{2}$$\n",
        "$$ \\implies \\mu_M[M=2] = \\frac{1}{2}$$\n",
        "\n",
        "<br>\n",
        "\n",
        "For $M = 02$, $B = [-2,0)$\n",
        "Therefore, \n",
        "$$P[B] = \\int_{-2}^0 \\frac{1}{4}d\\omega = \\frac{1}{2}$$\n",
        "$$ \\implies \\mu_M[M=0] = \\frac{1}{2}$$\n",
        "\n",
        "<br>"
      ]
    },
    {
      "cell_type": "markdown",
      "metadata": {
        "id": "PBb8hoGnEH4o"
      },
      "source": [
        "<b> Question 2 </b>\n",
        "1. For Monte Carlo approximation of $\\pi$, we sample a set number of points in a square of side 1, and check the probability of them lying inside a quarter circle of radius 1 wtih its center at $[0,0]$"
      ]
    },
    {
      "cell_type": "code",
      "execution_count": 1,
      "metadata": {
        "colab": {
          "base_uri": "https://localhost:8080/"
        },
        "id": "bfBEMysSJ-Gd",
        "outputId": "72be61c9-0728-4f9d-9ebe-f0dfb05355c8"
      },
      "outputs": [
        {
          "name": "stdout",
          "output_type": "stream",
          "text": [
            "Value of Pi: 3.14\n",
            "This approximation took 70 samples.\n"
          ]
        }
      ],
      "source": [
        "import numpy as np\n",
        " \n",
        " \n",
        "# Maximum number of samples to consider\n",
        "MaxTrials = 10000\n",
        "radius = 1\n",
        "i = 1\n",
        "\n",
        "while(i<MaxTrials):\n",
        "  In = 0\n",
        "  # Generate points in a square of side 1 units, from 0 to 1.\n",
        "  X_r = np.random.default_rng().uniform(0, 1, (i,))\n",
        "  Y_r = np.random.default_rng().uniform(0, 1, (i,))\n",
        "\n",
        "  for j in range(i):\n",
        "    x = X_r[j]\n",
        "    y = Y_r[j]\n",
        "    # Check if the points are inside the quarter circle or not\n",
        "    if x**2+y**2<=radius**2:\n",
        "        In = In + 1\n",
        "  \n",
        "  pi = 4*In/i\n",
        "  # If the approximation reaches 2 digit accuracy, break loop\n",
        "  if (3.140 <= pi <= 3.149):\n",
        "    break\n",
        "  i+=1\n",
        "\n",
        "# Displaying upto two decimal places\n",
        "print(\"Value of Pi:\", '%.2f' %pi)  \n",
        "print(\"This approximation took \" + str(i) + \" samples.\")"
      ]
    },
    {
      "cell_type": "markdown",
      "metadata": {
        "id": "vztlQslDOKyv"
      },
      "source": [
        "2. For the second approach, \n",
        "$$ \\frac{\\pi}{4} = \\int_0^1 \\sqrt{1-x^2} dx = E[\\sqrt{1-X^2}]$$\n",
        "<br>\n",
        "where X is the uniform random variable $U [0, 1] $\n",
        "\n",
        "So, to approximate $\\pi$ we take $n$ samples of $ X\\subseteq U [0, 1]$\n",
        "\n",
        "We know that the expectation of a discrete function is the mean of the calculated values of the function. \n",
        "\n",
        "Since $X$ is discrete, we can write\n",
        "\n",
        "$$E(\\sqrt[2]{1 - X^2} = mean ( 1- X^2) $$\n",
        "\n",
        "As the number of samples increases, this value reaches closer and closer to the integral value of the function. \n",
        "\n",
        "Thus we can use Monte Carlo approximation to calculate $\\pi$ using this integral. "
      ]
    },
    {
      "cell_type": "code",
      "execution_count": 3,
      "metadata": {
        "colab": {
          "base_uri": "https://localhost:8080/"
        },
        "id": "a8y6MWFFK4Uu",
        "outputId": "6d0a33cd-6a73-4e49-c18b-0ee180cc142b"
      },
      "outputs": [
        {
          "name": "stdout",
          "output_type": "stream",
          "text": [
            "Value of Pi: 3.14\n",
            "This calculation took 43 samples.\n"
          ]
        }
      ],
      "source": [
        "import numpy as np\n",
        " \n",
        " \n",
        "# Maximum number of samples to consider\n",
        "MaxTrials = 10000\n",
        "radius = 1\n",
        "i = 1\n",
        "\n",
        "while(i<MaxTrials):\n",
        "  # Generate points from uniform distribution in range [0, 1]\n",
        "  X_r = np.random.default_rng().uniform(0, 1, (i,))\n",
        "  Sum = np.sqrt(1 - X_r**2)\n",
        "  Exp_area = np.mean(Sum)\n",
        "  Pi = 4*Exp_area\n",
        "  # If the approximation reaches 2 digit accuracy, break loop\n",
        "  if (3.140 <= Pi <= 3.149):\n",
        "    break\n",
        "  i+=1\n",
        "\n",
        "# Displaying upto two decimal places\n",
        "print(\"Value of Pi:\", '%.2f' %Pi)\n",
        "print(\"This calculation took \" + str(i) + \" samples.\")"
      ]
    },
    {
      "cell_type": "markdown",
      "metadata": {
        "id": "OBFnSG2BTp5V"
      },
      "source": [
        "3. To test which approach converges faster, we calculate mean and variance of both approache for a 1000 random seed cases drawing 10000 samples."
      ]
    },
    {
      "cell_type": "code",
      "execution_count": 5,
      "metadata": {
        "colab": {
          "base_uri": "https://localhost:8080/"
        },
        "id": "qRP4MBg3qN2F",
        "outputId": "e34ae80a-a487-48c2-e68c-6997d856a015"
      },
      "outputs": [
        {
          "name": "stdout",
          "output_type": "stream",
          "text": [
            "Expected Pi:  3.1418616000000004\n",
            "Variance:  0.00027679812544\n"
          ]
        }
      ],
      "source": [
        "# For Approach 1\n",
        "\n",
        "nSeedcases = 1000\n",
        "area = []\n",
        "\n",
        "for j in range(nSeedcases):\n",
        "  nTrials = 10000\n",
        "  radius = 1\n",
        "  # Counter for thepoints inside the circle\n",
        "  In = 0\n",
        " \n",
        "  # Generate points in a square of side 2 units, from 0 to 1.\n",
        "  X_r = np.random.default_rng().uniform(0, 1, (nTrials,))\n",
        "  Y_r = np.random.default_rng().uniform(0, 1, (nTrials,))\n",
        " \n",
        "  for i in range(nTrials):\n",
        "    x = X_r[i]\n",
        "    y = Y_r[i]\n",
        "    # Check if the points are inside the circle or not\n",
        "    if x**2+y**2<=radius**2:\n",
        "        In = In + 1\n",
        "  area.append(4*In/nTrials)\n",
        "\n",
        "Exp_pi = np.mean(area)\n",
        "var_pi = np.var(area)\n",
        "\n",
        "print(\"Expected Pi: \",Exp_pi)\n",
        "print(\"Variance: \",var_pi)"
      ]
    },
    {
      "cell_type": "code",
      "execution_count": 6,
      "metadata": {
        "colab": {
          "base_uri": "https://localhost:8080/"
        },
        "id": "q4w_u1u3qPh4",
        "outputId": "aff8431d-6015-4820-80bb-62e4761dfdf5"
      },
      "outputs": [
        {
          "name": "stdout",
          "output_type": "stream",
          "text": [
            "Expected Pi:  3.1416285692583417\n",
            "Variance:  7.371435704829155e-05\n"
          ]
        }
      ],
      "source": [
        "# For Approach 2\n",
        "\n",
        "nSeedcases = 1000\n",
        "Pi = []\n",
        "\n",
        "for j in range(nSeedcases):\n",
        "  nTrials = 10000\n",
        "  radius = 1\n",
        "\n",
        "  # Generate points from uniform distribution in range [0, 1] \n",
        "  X_r = np.random.default_rng().uniform(0, 1, (nTrials,))\n",
        " \n",
        "  Sum = np.sqrt(1 - X_r**2)\n",
        "\n",
        "  Exp_area = np.mean(Sum)\n",
        "  Pi.append(4*Exp_area) \n",
        "\n",
        "Exp_pi = np.mean(Pi)\n",
        "var_pi = np.var(Pi)\n",
        "\n",
        "print(\"Expected Pi: \",Exp_pi)\n",
        "print(\"Variance: \",var_pi)"
      ]
    },
    {
      "cell_type": "markdown",
      "metadata": {
        "id": "frcN2xRkXW3D"
      },
      "source": [
        "We can see that variance of method 2 is much less than that of method 1. "
      ]
    },
    {
      "cell_type": "code",
      "execution_count": 7,
      "metadata": {
        "colab": {
          "base_uri": "https://localhost:8080/",
          "height": 265
        },
        "id": "PtHljG6TWSeP",
        "outputId": "907d0b83-ece1-46db-8b91-63eb570fbc7a"
      },
      "outputs": [
        {
          "data": {
            "image/png": "[encoded data removed]",
            "text/plain": [
              "<Figure size 432x288 with 1 Axes>"
            ]
          },
          "metadata": {
            "needs_background": "light"
          },
          "output_type": "display_data"
        }
      ],
      "source": [
        "import matplotlib.pyplot as plt\n",
        "\n",
        "plt.hist(area,bins = 35, alpha = 0.45, color = 'red', label = \"Method 1\")\n",
        "plt.hist(Pi,bins = 35, alpha = 0.45, color = 'blue', label = \"Method 2\")\n",
        "plt.legend()\n",
        "plt.show()"
      ]
    },
    {
      "cell_type": "markdown",
      "metadata": {
        "id": "iaP8T6ppUeRb"
      },
      "source": [
        "Plotting the distribution of calculated $\\pi$ from both methods also gives us a similar story. It is clearly seen that method 2 has much lower variance than method 1, and also more of the random initializations seem to converge at 3.14. Thus method 2 is more likely to converge to the true value of $\\pi$ using a smaller sample number. "
      ]
    },
    {
      "cell_type": "markdown",
      "metadata": {
        "id": "Rn6xxQq7Mwqg"
      },
      "source": [
        "## **Question 3** (Probabilistic regression) (50+)\n",
        "\n",
        "1.) Consider $y = f(x) = a_4x^4 + a_3x^3 + a_2x^2 + a_1x + a_0$, and you pick $(a_0,a_1,a_2, a_3, a_4)$ (See Homework 2 problem 1 as a reference). First, you generate some N (you pick N) noisy data samples by\n",
        "- Draw gaussian samples $x^i \\sim \\mathcal{N}(0, 2)$\n",
        "- Generate noisy y, i.e., $y^i = f(x^i) + \\epsilon$, where $\\epsilon \\sim \\mathcal{N}(0, \\delta^2)$, and you pick small noise level $\\delta$\n",
        "\n",
        "2.a) Similar to the Lecture 5.b, but now choose the Gaussian likelihood model with polynomial regression of order $10$ for conditional distribution of $y$ given $x$ and $\\theta$\n",
        "$$p(y | x; \\theta).$$\n",
        "Here we choose $\\sigma = \\delta$. From N samples $(x^i, y^i)$, derive the optimal $\\theta^*$ by the maximum conditional likelihood function approach.\n",
        "\n",
        "2.b) Determine the mean of conditional distribution $p(y | x; \\theta^*)$\n",
        "as function of x and then plotting this mean together with the training data.\n",
        "\n",
        "2.c) Find the variance of conditional distribution $$p(y | x; \\theta^*)$$\n",
        "Then, plot ($y \\pm \\sigma$) curve on top of your figure in 2.b).\n",
        "\n",
        "2.d) This question is for gererating the testing data and plotting them. Draw $x^i \\sim \\mathcal{N}(0, 2)$, for $i=1,...,50$, and then compute $y^i = f_{\\theta^*}(x^i) + \\epsilon$. Plotting these 50 pairs $(x^i, y^i)$ in the same figure. What is the percentage of points that are within the uncertainty band? Discuss the result.\n",
        "\n",
        "3.a) From N samples $(x^i, y^i)$, finding the optimal $\\theta^*$ by optimizing the model using the MAP approach (see Lecture 5b and you need to derive MAP function). The variance for prior Gaussian distribution of $\\theta$ should be a reasonable value (it has the same meaning as the regularization parameter)\n",
        "\n",
        "3.b.c.d) reapeating steps 2.b.c.d, then discuss the difference. \n"
      ]
    },
    {
      "cell_type": "markdown",
      "metadata": {
        "id": "As9wXDvGMym-"
      },
      "source": [
        "<br>\n",
        "\n",
        "<b> Question 3 </b>\n",
        "\n",
        "1) Generating data:"
      ]
    },
    {
      "cell_type": "code",
      "execution_count": 88,
      "metadata": {
        "colab": {
          "base_uri": "https://localhost:8080/",
          "height": 282
        },
        "id": "4NRxK9F9M1ab",
        "outputId": "12fe2ac6-0ca9-453a-f627-63a02727821e"
      },
      "outputs": [
        {
          "data": {
            "text/plain": [
              "<matplotlib.legend.Legend at 0x7f5de44d6a58>"
            ]
          },
          "execution_count": 88,
          "metadata": {},
          "output_type": "execute_result"
        },
        {
          "data": {
            "image/png": "[encoded data removed]",
            "text/plain": [
              "<Figure size 576x288 with 1 Axes>"
            ]
          },
          "metadata": {
            "needs_background": "light"
          },
          "output_type": "display_data"
        }
      ],
      "source": [
        "import warnings\n",
        "warnings.filterwarnings(\"ignore\", category=FutureWarning)\n",
        "\n",
        "warnings.filterwarnings('ignore')\n",
        "import numpy as np\n",
        "import matplotlib.pyplot as plt\n",
        "plt.rcParams['figure.figsize'] = [8, 4]\n",
        "import pandas as pd\n",
        "from sklearn import datasets\n",
        "np.random.seed(0)\n",
        "from sklearn.pipeline import Pipeline\n",
        "from sklearn.preprocessing import PolynomialFeatures\n",
        "from sklearn.linear_model import LinearRegression, Ridge, ElasticNet, Lasso, LogisticRegression\n",
        "\n",
        "from scipy.stats import truncnorm\n",
        "\n",
        "# Defining function to generate gaussian samples of a given mean and standard deviation within a specified range for ease of visualization.\n",
        "def get_truncated_normal(mean=0, sd=1, low=0, upp=10):\n",
        "    return truncnorm(\n",
        "        (low - mean) / sd, (upp - mean) / sd, loc=mean, scale=sd)\n",
        "\n",
        "order_true = 5\n",
        "\n",
        "# Define coefficients of true function\n",
        "true_coefficient = np.array([.5, -1, -.5, -2, 5])\n",
        "\n",
        "# Define polynomial\n",
        "def true_y(X):\n",
        "  f = np.ones((X.shape))\n",
        "  for i in range(order_true):\n",
        "    f += true_coefficient[i] * X**i\n",
        "  return f\n",
        "\n",
        "N = 10\n",
        "# Generate noisy X Data\n",
        "X_i = get_truncated_normal(mean=0, sd=2, low=0, upp=1).rvs(N)\n",
        "np.random.seed(2)\n",
        "# Generate noisy Y Data with chosen standard deviation = 0.05\n",
        "# Thus variance is 0.0025\n",
        "noise = 0.05\n",
        "Y_i = true_y(X_i) + np.random.normal(0, noise, N)\n",
        "\n",
        "# Visualize true function and generate samples\n",
        "plt.scatter(X_i,Y_i, edgecolor='b', s=20, facecolor = 'b', label=\"Train Samples\")\n",
        "X_test = np.linspace(0., 1., 100)\n",
        "plt.plot(X_test,true_y(X_test),'g',label = 'True function')\n",
        "plt.legend()"
      ]
    },
    {
      "cell_type": "markdown",
      "metadata": {
        "id": "szzrl5h1NHVq"
      },
      "source": [
        "2. a) First, we define our polynomial function as a function of $\\theta$ and feature vector $x$ where,\n",
        "\n",
        "$$ \\theta = \\begin{bmatrix} \\theta_0 & \\theta_1 & \\theta_2 & ... & \\theta_{10}\\end{bmatrix}$$\n",
        "\n",
        "and \n",
        "\n",
        "$$ x = \\begin{bmatrix} 1 & x^1 & x^2 & ... & x^{10}\\end{bmatrix}$$\n",
        "\n",
        "such that, \n",
        "$$ f_\\theta(x) = \\theta^\\top x' $$"
      ]
    },
    {
      "cell_type": "code",
      "execution_count": 89,
      "metadata": {
        "id": "SqbwOnxNTVUG"
      },
      "outputs": [],
      "source": [
        "# Define polynomial model of degree 10, which returns the predicted y value\n",
        "# This function has 11 theta parameters to optimize\n",
        "degree = 10\n",
        "\n",
        "def polynomial_function(x, theta):\n",
        "    yPred = theta[0]\n",
        "    for i in range(degree):\n",
        "      yPred = yPred + theta[i+1]*x**(i+1)\n",
        "    return yPred"
      ]
    },
    {
      "cell_type": "markdown",
      "metadata": {
        "id": "qAkAoQ6VZwgW"
      },
      "source": [
        "Since we are choosing the Gaussian likelihood model, we define \n",
        "\n",
        "$$ p(y|x, \\theta) = \\frac{1}{\\sqrt{2\\pi}\\sigma} \\exp\\left( -\\frac{(y - \\theta^\\top x)^2}{2 \\sigma^2} \\right).$$\n",
        "\n",
        "We optimize the model using maximum likelihood. The log-likelihood function at a point $(x,y)$ equals:\n",
        "\n",
        "\\begin{align*}\n",
        "\\log L(\\theta) = \\log p(y| x, \\theta) & = \\log \\frac{1}{\\sqrt{2\\pi}\\sigma} \\exp\\left( -\\frac{(y - \\theta^\\top x)^2}{2 \\sigma^2} \\right) \\\\\n",
        "& = -\\frac{(y - \\theta^\\top x)^2}{2 \\sigma^2} + \\text{const.}\n",
        "\\end{align*}\n",
        "\n",
        "As specified in the question, we are taking $\\sigma = \\delta = 0.05$"
      ]
    },
    {
      "cell_type": "code",
      "execution_count": 90,
      "metadata": {
        "id": "X_wFSyGE45Em"
      },
      "outputs": [],
      "source": [
        "# Define Log Likelihood function\n",
        "def calcLogLikelihood(pred, true):\n",
        "    error = true-pred\n",
        "    # As specified in question we take sigma as the defined noise\n",
        "    sigma = noise\n",
        "    # Using simplified form of Log Likelihood, which is equivalent to MSE\n",
        "    # Dropping the constant term as it is not required for minimization\n",
        "    f = -1*(np.dot(error.T,error))/(2*sigma)  \n",
        "    return f"
      ]
    },
    {
      "cell_type": "code",
      "execution_count": 91,
      "metadata": {
        "id": "1FuT77Tq49-9"
      },
      "outputs": [],
      "source": [
        "# Maximizing log likelihood is equivalent to minimizing the negative of log likelihood\n",
        "def MLEFunction(theta):\n",
        "    x = X_i\n",
        "    y = Y_i\n",
        "    yPred = polynomial_function(x, theta)\n",
        "    f = calcLogLikelihood(yPred, y)\n",
        "    return (-1*f)"
      ]
    },
    {
      "cell_type": "code",
      "execution_count": 92,
      "metadata": {
        "colab": {
          "base_uri": "https://localhost:8080/"
        },
        "id": "b9kTcFea5hMQ",
        "outputId": "0d6a1b03-c6f7-47d0-80f0-79a3ee6c559c"
      },
      "outputs": [
        {
          "name": "stdout",
          "output_type": "stream",
          "text": [
            "Warning: Desired error not necessarily achieved due to precision loss.\n",
            "         Current function value: 0.147683\n",
            "         Iterations: 73\n",
            "         Function evaluations: 1222\n",
            "         Gradient evaluations: 101\n"
          ]
        }
      ],
      "source": [
        "# n degree polynomial has n+1 parameters to optimize\n",
        "ntheta = degree + 1\n",
        "# Initialize theta vector to [0, 0, ... 0]\n",
        "theta = np.zeros(ntheta)\n",
        "\n",
        "from scipy.optimize import minimize\n",
        "res = minimize(MLEFunction, theta, method='BFGS', options={'disp': True})"
      ]
    },
    {
      "cell_type": "code",
      "execution_count": 93,
      "metadata": {
        "colab": {
          "base_uri": "https://localhost:8080/"
        },
        "id": "VKuEPVsg50aV",
        "outputId": "fb5e7d3f-fede-4fc1-e80d-e9d8fa414044"
      },
      "outputs": [
        {
          "name": "stdout",
          "output_type": "stream",
          "text": [
            "The optimal theta values thus are:  [  38.53265119 -299.4135045   802.31811605 -615.4936481  -518.90969326\n",
            "  385.5637676   689.76084072  141.7629806  -597.51906736 -649.46122181\n",
            "  627.61492226]\n"
          ]
        }
      ],
      "source": [
        "print(\"The optimal theta values thus are: \", res.x)"
      ]
    },
    {
      "cell_type": "markdown",
      "metadata": {
        "id": "I9XDae7hbRwQ"
      },
      "source": [
        "2.b) We know that the mean of $p(y|x;\\theta^*)$ as a function of $x$ is given by $\\mu_{y|x}(x) = \\theta^{*\\top} x$.\n",
        "\n",
        "This can be confirmed by looking at the form of the standard normal distribution: \n",
        "$$f(x) = \\frac{1}{\\sqrt[]{2\\pi}\\sigma}\\exp\\left(-\\frac{(y - u_y)^2}{2\\sigma^2}\\right) $$\n",
        "\n",
        "and comparing with our Gaussian model: \n",
        "\n",
        "$$ p(y|x, \\theta) = \\frac{1}{\\sqrt{2\\pi}\\sigma} \\exp\\left( -\\frac{(y - \\theta^\\top x)^2}{2 \\sigma^2} \\right).$$\n",
        "\n",
        "In our case, since it is polynomial regression we replace $x$ with the feature vector: \n",
        "$$ x' = \\begin{bmatrix} 1 & x^1 & x^2 & ... & x^{10}\\end{bmatrix}$$\n",
        "<br>\n",
        "Plotting this calculated mean together with the training data:"
      ]
    },
    {
      "cell_type": "code",
      "execution_count": 94,
      "metadata": {
        "colab": {
          "base_uri": "https://localhost:8080/",
          "height": 282
        },
        "id": "cLrcB7CQbEDh",
        "outputId": "cb8e063c-1991-44d3-87bf-919d797a38ab"
      },
      "outputs": [
        {
          "data": {
            "text/plain": [
              "<matplotlib.legend.Legend at 0x7f5de43b04a8>"
            ]
          },
          "execution_count": 94,
          "metadata": {},
          "output_type": "execute_result"
        },
        {
          "data": {
            "image/png": "[encoded data removed]",
            "text/plain": [
              "<Figure size 576x288 with 1 Axes>"
            ]
          },
          "metadata": {
            "needs_background": "light"
          },
          "output_type": "display_data"
        }
      ],
      "source": [
        "theta_opt = res.x\n",
        "\n",
        "X_test = np.linspace(0., 1., 100)\n",
        "# Finding mean of p(y|x, theta) as a function of x using the function we defined earlier\n",
        "Y_mean = polynomial_function(X_test, theta_opt)\n",
        "plt.plot(X_test,Y_mean,'g',label = 'Mean P(y|x; theta)')\n",
        "plt.scatter(X_i,Y_i, edgecolor='b', s=20, facecolor = 'b', label=\"Train Samples\")\n",
        "plt.ylim((-0.,2))\n",
        "plt.legend()"
      ]
    },
    {
      "cell_type": "markdown",
      "metadata": {
        "id": "1yTh7wxDOpAo"
      },
      "source": [
        "2.c) For determining the variance of the conditional distribution, we observe the standard form and our Gaussian model. This tells us that $\\sigma$ is the standard deviation. \n",
        "\n",
        "Since we have already defined $\\sigma = 0.05$, the variance is $\\sigma^2 = 0.0025$\n",
        "\n",
        "We plot ($y \\pm \\sigma$) curve over the previous plot."
      ]
    },
    {
      "cell_type": "code",
      "execution_count": 95,
      "metadata": {
        "id": "_EnclQXqg8p8"
      },
      "outputs": [],
      "source": [
        "# Defining probability density function P(y|x, theta)\n",
        "import scipy.stats\n",
        "\n",
        "def p(y, x, theta):\n",
        "  sigma = 0.05\n",
        "  error = y - polynomial_function(x, theta)\n",
        "  return  (np.sqrt(1.0/(2.0*np.pi*sigma**2)))*np.exp(-1*((np.dot(error.T,error))/(2*sigma**2)))"
      ]
    },
    {
      "cell_type": "code",
      "execution_count": 96,
      "metadata": {
        "colab": {
          "base_uri": "https://localhost:8080/",
          "height": 282
        },
        "id": "Z292K-T-69X_",
        "outputId": "ba35b24a-30fd-4b80-9254-4a272a6c8204"
      },
      "outputs": [
        {
          "data": {
            "text/plain": [
              "<matplotlib.legend.Legend at 0x7f5de4285320>"
            ]
          },
          "execution_count": 96,
          "metadata": {},
          "output_type": "execute_result"
        },
        {
          "data": {
            "image/png": "[encoded data removed]",
            "text/plain": [
              "<Figure size 576x288 with 1 Axes>"
            ]
          },
          "metadata": {
            "needs_background": "light"
          },
          "output_type": "display_data"
        }
      ],
      "source": [
        "#variance = np.var(Y_i - polynomial_function(X_i, theta_opt))\n",
        "#print(\"Empirical variance: \",variance)\n",
        "# variance = sigma^2\n",
        "sigma = 0.05\n",
        "variance = sigma**2\n",
        "\n",
        "X_test = np.linspace(0., 1., 100)\n",
        "Y_mean = polynomial_function(X_test, theta_opt)\n",
        "plt.plot(X_test,Y_mean,'g',label = 'Mean P(y|x, theta_optimal)')\n",
        "plt.plot(X_test,Y_mean + sigma,'r', alpha=0.3, label = \"Mean P(y|x, theta_optimal) +/- sigma\")\n",
        "plt.plot(X_test,Y_mean - sigma,'r', alpha=0.3)\n",
        "plt.scatter(X_i,Y_i, edgecolor='b', s=20, facecolor = 'b', label=\"Train Samples\", alpha = 0.5)\n",
        "plt.ylim((-0.,2))\n",
        "plt.legend()\n",
        "\n"
      ]
    },
    {
      "cell_type": "markdown",
      "metadata": {
        "id": "Tvysk1l5Pics"
      },
      "source": [
        "\n",
        "2.d) Now generating testing data in the form:\n",
        "\n",
        "$$x^i \\sim \\mathcal{N}(0, 2)\\;\\;:\\;\\; i=1,...,50$$\n",
        "\n",
        "$$y^i = f(x^i) + \\epsilon$$\n",
        "\n",
        "and plotting together with ($y \\pm \\sigma$)"
      ]
    },
    {
      "cell_type": "code",
      "execution_count": 97,
      "metadata": {
        "colab": {
          "base_uri": "https://localhost:8080/",
          "height": 282
        },
        "id": "GcDbZISk97sz",
        "outputId": "10bf2a26-67dd-4d17-e51d-8d2c3835008d"
      },
      "outputs": [
        {
          "data": {
            "text/plain": [
              "<matplotlib.legend.Legend at 0x7f5de4487e48>"
            ]
          },
          "execution_count": 97,
          "metadata": {},
          "output_type": "execute_result"
        },
        {
          "data": {
            "image/png": "[encoded data removed]",
            "text/plain": [
              "<Figure size 576x288 with 1 Axes>"
            ]
          },
          "metadata": {
            "needs_background": "light"
          },
          "output_type": "display_data"
        }
      ],
      "source": [
        "N = 50\n",
        "# X Data\n",
        "X_i_test = get_truncated_normal(mean=0, sd=2, low=0, upp=1).rvs(N)\n",
        "np.random.seed(10)\n",
        "# Y Data\n",
        "Y_i_test = true_y(X_i_test)+ np.random.normal(0, 0.05, N) # Chosen standard deviation = 0.05\n",
        "\n",
        "plt.scatter(X_i_test,Y_i_test, edgecolor='b', s=20, facecolor = 'b', label=\"Test Samples\")\n",
        "plt.plot(X_test,Y_mean,'g',label = 'Mean P(y|x, theta_optimal)')\n",
        "plt.plot(X_test,Y_mean + sigma,'r', alpha=0.3, label = \"Mean P(y|x, theta_optimal) +- sigma\")\n",
        "plt.plot(X_test,Y_mean - sigma,'r', alpha=0.3)\n",
        "plt.ylim((-0.,2))\n",
        "plt.legend()\n"
      ]
    },
    {
      "cell_type": "code",
      "execution_count": null,
      "metadata": {
        "colab": {
          "base_uri": "https://localhost:8080/"
        },
        "id": "-AB4Vu6T-3ml",
        "outputId": "84bfe286-d067-4b7e-ee90-daca71f9cb3b"
      },
      "outputs": [],
      "source": []
    },
    {
      "cell_type": "markdown",
      "metadata": {
        "id": "lxL_j4fTxOfY"
      },
      "source": [
        "Overfitting => need regularization"
      ]
    },
    {
      "cell_type": "markdown",
      "metadata": {
        "id": "6qkMVMHHyoE-"
      },
      "source": [
        "3.a) Maximum A Priori (MAP) Approach:\n",
        "\n",
        "In MAP learning, we optimize the following objective.\n",
        "\\begin{align*}\n",
        "\\theta_\\text{MAP} = \\arg\\max_\\theta \\left( \\log \\prod_{i=1}^n P(x^{(i)}, y^{(i)} \\mid \\theta) + \\log P(\\theta) \\right),\n",
        "\\end{align*}\n",
        "\n",
        "To reach this objective, \n",
        "\n",
        "1. We assume the same Gaussian likelihood model as the previous part for our data:\n",
        "$$ p(y| x,\\theta) = \\frac{1}{\\sqrt{2\\pi}\\sigma} \\exp\\left( -\\frac{(y - \\theta^\\top x)^2}{2 \\sigma^2} \\right).$$\n",
        "\n",
        "2.  We assume a Gaussian prior with mean zero and variance $\\tau$ on the parameters $\\theta$:\n",
        "$$ p(\\theta) = \\prod_{j=1}^d \\frac{1}{\\sqrt{2\\pi}\\tau} \\exp\\left( -\\frac{\\theta_j^2}{2\\tau^2} \\right)$$\n",
        "\n",
        "3. The log likelihood function then becomes: \n",
        "\\begin{align*}\n",
        "\\log L(\\theta) & = \\log p(y| x, \\theta) + \\log p(\\theta) \n",
        "\\\\ & = \\log \\frac{1}{\\sqrt{2\\pi}\\sigma} \\exp\\left( -\\frac{(y - \\theta^\\top x)^2}{2 \\sigma^2} \\right) + \\log \\prod_{j=1}^d \\frac{1}{\\sqrt{2\\pi}\\tau} \\exp\\left( -\\frac{\\theta_j^2}{2\\tau^2} \\right) \\\\\n",
        "& = -\\frac{(y - \\theta^\\top x)^2}{2 \\sigma^2} - \\frac{1}{2\\tau^2}\\sum_{j=1}^d \\theta_j^2 + \\text{const.} \\\\\n",
        "& = Objective_{MLE} - \\frac{1}{2\\tau^2}\\sum_{j=1}^d \\theta_j^2 + const.\n",
        "\\end{align*}\n",
        "\n",
        "\n",
        "\n",
        "Thus, the MAP approach is equivalent to performing Ridge Regression with regularization parameter $\\lambda$ = $1/\\tau^2$"
      ]
    },
    {
      "cell_type": "code",
      "execution_count": 99,
      "metadata": {
        "id": "RfCrgLBMDRZx"
      },
      "outputs": [],
      "source": [
        "# Defining objective function for MAP\n",
        "tau = 100\n",
        "\n",
        "def MAPFunction(theta):\n",
        "    x = X_i\n",
        "    y = Y_i\n",
        "    yGuess = polynomial_function(x, theta)\n",
        "    # Adding Gaussian prior term to MLE objective function\n",
        "    f = calcLogLikelihood(yGuess, y) - 0.5/tau*np.linalg.norm(theta)**2\n",
        "    return (-1*f)"
      ]
    },
    {
      "cell_type": "code",
      "execution_count": 100,
      "metadata": {
        "colab": {
          "base_uri": "https://localhost:8080/"
        },
        "id": "4HCKSWS9Ila2",
        "outputId": "d0e133dd-0da3-4b01-b6a6-a1951095ef65"
      },
      "outputs": [
        {
          "name": "stdout",
          "output_type": "stream",
          "text": [
            "Optimization terminated successfully.\n",
            "         Current function value: 0.281319\n",
            "         Iterations: 27\n",
            "         Function evaluations: 348\n",
            "         Gradient evaluations: 29\n"
          ]
        }
      ],
      "source": [
        "ntheta = degree + 1\n",
        "theta = np.zeros(ntheta)\n",
        "\n",
        "from scipy.optimize import minimize\n",
        "res = minimize(MAPFunction, theta, method='BFGS', options={'disp': True})"
      ]
    },
    {
      "cell_type": "code",
      "execution_count": 101,
      "metadata": {
        "colab": {
          "base_uri": "https://localhost:8080/"
        },
        "id": "VXfE6lWQImOM",
        "outputId": "26a1b9a4-85a0-4006-c9f9-215eec747111"
      },
      "outputs": [
        {
          "name": "stdout",
          "output_type": "stream",
          "text": [
            "The optimal theta values thus are:  [ 1.32340904 -0.69378059 -0.60854564  0.07684185  0.65408144  0.91474257\n",
            "  0.87995001  0.64353811  0.30049655 -0.07730079 -0.44383261]\n"
          ]
        }
      ],
      "source": [
        "print(\"The optimal theta values thus are: \", res.x)"
      ]
    },
    {
      "cell_type": "markdown",
      "metadata": {
        "id": "x3yz5f2W1K48"
      },
      "source": [
        "3.b) Similar to previous case, the mean of $p(y|x;\\theta^*)$ as a function of $x$ is given by $\\mu_{y|x}(x) = \\theta^{*\\top} x$.\n",
        "\n",
        "Plotting this calculated mean together with the training data:"
      ]
    },
    {
      "cell_type": "code",
      "execution_count": 106,
      "metadata": {
        "colab": {
          "base_uri": "https://localhost:8080/",
          "height": 282
        },
        "id": "3ELhYGIM0--u",
        "outputId": "38d0a81b-efc0-42d3-d529-5356465d2f6d"
      },
      "outputs": [
        {
          "data": {
            "text/plain": [
              "(-0.0, 2.0)"
            ]
          },
          "execution_count": 106,
          "metadata": {},
          "output_type": "execute_result"
        },
        {
          "data": {
            "image/png": "[encoded data removed]",
            "text/plain": [
              "<Figure size 576x288 with 1 Axes>"
            ]
          },
          "metadata": {
            "needs_background": "light"
          },
          "output_type": "display_data"
        }
      ],
      "source": [
        "theta_opt_MAP = res.x\n",
        "\n",
        "X_test = np.linspace(0., 1., 100)\n",
        "Y_mean = polynomial_function(X_test, theta_opt_MAP)\n",
        "plt.plot(X_test,Y_mean,'g',label = 'MAP Mean')\n",
        "plt.scatter(X_i,Y_i, edgecolor='b', s=20, facecolor = 'b', label=\"Train Samples\")\n",
        "plt.legend()\n",
        "plt.ylim((-0.,2))"
      ]
    },
    {
      "cell_type": "markdown",
      "metadata": {
        "id": "rXbylG0h1ctp"
      },
      "source": [
        "3.c) For determining the variance of the conditional distribution, we recall that the conditional probability function of y is given by:\n",
        "\n",
        "$$ P(y,x,\\theta) = P(y, x | \\theta)P(\\theta)$$\n",
        "\n",
        "where, \n",
        "\n",
        "$$ p(y, x | \\theta) = \\frac{1}{\\sqrt{2\\pi}\\sigma} \\exp\\left( -\\frac{(y - \\theta^\\top x)^2}{2 \\sigma^2} \\right).$$\n",
        "\n",
        "$$ p(\\theta) = \\prod_{j=1}^d \\frac{1}{\\sqrt{2\\pi}\\tau} \\exp\\left( -\\frac{\\theta_j^2}{2\\tau^2} \\right).$$\n",
        "\n",
        "$$ p(y, x, \\theta) = \\frac{1}{\\sqrt{2\\pi}\\sigma} \\left(\\frac{1}{\\sqrt{2\\pi}\\tau}\\right)^d \\exp\\left( -\\frac{(y - \\theta^\\top x)^2}{2 \\sigma^2} - \\frac{1}{2\\tau^2}\\sum_{j=1}^d \\theta_j^2\\right)$$\n",
        "\n",
        "\n",
        "Once the model is trained, $\\theta$ is constant. Thus the norm of $\\theta$ will not affect the variance of the Gaussian ditribution. \n",
        "\n",
        "Therefore, $\\sigma = \\delta = 0.05$, which is the noise level we selected earlier.\n",
        "<br><br>\n",
        "\n",
        "We plot ($y \\pm \\sigma$) curve over the previous plot."
      ]
    },
    {
      "cell_type": "code",
      "execution_count": 108,
      "metadata": {
        "colab": {
          "base_uri": "https://localhost:8080/",
          "height": 300
        },
        "id": "0YCrr1qGJKiG",
        "outputId": "4e337d77-2e39-4d03-f4ab-113a33b89f16"
      },
      "outputs": [
        {
          "name": "stdout",
          "output_type": "stream",
          "text": [
            "0.0025454220624674855\n"
          ]
        },
        {
          "data": {
            "text/plain": [
              "(-0.0, 2.0)"
            ]
          },
          "execution_count": 108,
          "metadata": {},
          "output_type": "execute_result"
        },
        {
          "data": {
            "image/png": "[encoded data removed]",
            "text/plain": [
              "<Figure size 576x288 with 1 Axes>"
            ]
          },
          "metadata": {
            "needs_background": "light"
          },
          "output_type": "display_data"
        }
      ],
      "source": [
        "variance = np.var(Y_i - polynomial_function(X_i, theta_opt_MAP))\n",
        "print(variance)\n",
        "# variance = sigma^2\n",
        "sigma = np.sqrt(variance)\n",
        "X_test = np.linspace(0., 1., 100)\n",
        "Y_mean = polynomial_function(X_test, theta_opt_MAP)\n",
        "plt.plot(X_test,Y_mean,'g',label = 'Mean P(y|x, theta_optimal)')\n",
        "plt.plot(X_test,Y_mean + sigma,'r', alpha=0.3, label = \"Mean P(y|x, theta_optimal) +- sigma\")\n",
        "plt.plot(X_test,Y_mean - sigma,'r', alpha=0.3)\n",
        "plt.scatter(X_i,Y_i, edgecolor='b', s=20, facecolor = 'b', label=\"Train Samples\", alpha = 0.5)\n",
        "plt.legend()\n",
        "plt.ylim((-0.,2))\n"
      ]
    },
    {
      "cell_type": "markdown",
      "metadata": {
        "id": "CThQOklx1tFl"
      },
      "source": [
        "2.d) Now using the resting data in the form:\n",
        "\n",
        "$$x^i \\sim \\mathcal{N}(0, 2)\\;\\;:\\;\\; i=1,...,50$$\n",
        "\n",
        "$$y^i = f(x^i) + \\epsilon$$\n",
        "\n",
        "that we generated for the previous ase, and plotting together with ($y \\pm \\sigma$)"
      ]
    },
    {
      "cell_type": "code",
      "execution_count": 110,
      "metadata": {
        "colab": {
          "base_uri": "https://localhost:8080/",
          "height": 282
        },
        "id": "X-Vr9djNJpir",
        "outputId": "e8e58808-ef99-456c-b0e1-cd03249f2447"
      },
      "outputs": [
        {
          "data": {
            "text/plain": [
              "(-0.0, 2.0)"
            ]
          },
          "execution_count": 110,
          "metadata": {},
          "output_type": "execute_result"
        },
        {
          "data": {
            "image/png": "[encoded data removed]",
            "text/plain": [
              "<Figure size 576x288 with 1 Axes>"
            ]
          },
          "metadata": {
            "needs_background": "light"
          },
          "output_type": "display_data"
        }
      ],
      "source": [
        "#Using the same testing samples we generated earlier - X_i_test, Y_i_test\n",
        "\n",
        "plt.scatter(X_i_test,Y_i_test, edgecolor='b', s=20, facecolor = 'b', label=\"Test Samples\")\n",
        "plt.plot(X_test,Y_mean,'g',label = 'Mean P(y|x, theta_optimal)')\n",
        "plt.plot(X_test,Y_mean + sigma,'r', alpha=0.3, label = \"Mean P(y|x, theta_optimal) +/- sigma\")\n",
        "plt.plot(X_test,Y_mean - sigma,'r', alpha=0.3)\n",
        "plt.legend()\n",
        "plt.ylim((-0.,2))\n"
      ]
    },
    {
      "cell_type": "code",
      "execution_count": 111,
      "metadata": {
        "colab": {
          "base_uri": "https://localhost:8080/"
        },
        "id": "AcOoZadYJ2fD",
        "outputId": "a924bea3-a9a4-442a-94bb-a584a8407cdc"
      },
      "outputs": [
        {
          "name": "stdout",
          "output_type": "stream",
          "text": [
            "Percentage of points within the uncertainty band: 24.0%\n"
          ]
        }
      ],
      "source": [
        "count = 0\n",
        "\n",
        "for i in range(N):\n",
        "  if ((Y_i_test[i] <= (polynomial_function(X_i_test[i], theta_opt_MAP) + sigma)) and (polynomial_function(X_i_test[i], theta_opt_MAP) >= (Y_mean[i] - sigma))):\n",
        "    count = count + 1\n",
        "\n",
        "percentage = count/N*100\n",
        "print(\"Percentage of points within the uncertainty band: \" + str(percentage) + \"%\")"
      ]
    },
    {
      "cell_type": "markdown",
      "metadata": {
        "id": "YySpWei_BeYA"
      },
      "source": [
        "Now, model is good, thanks to regularization. However, the uncertainty band does not make sense, since it should give less uncertainty at training points. You will see it in assingment 4."
      ]
    },
    {
      "cell_type": "markdown",
      "metadata": {},
      "source": []
    }
  ],
  "metadata": {
    "colab": {
      "provenance": []
    },
    "kernelspec": {
      "display_name": "Python 3",
      "language": "python",
      "name": "python3"
    },
    "language_info": {
      "codemirror_mode": {
        "name": "ipython",
        "version": 3
      },
      "file_extension": ".py",
      "mimetype": "text/x-python",
      "name": "python",
      "nbconvert_exporter": "python",
      "pygments_lexer": "ipython3",
      "version": "3.6.9"
    },
    "vscode": {
      "interpreter": {
        "hash": "21be62648f8e3839c3b4ce05d43053c0ccba5ecc90dec2be15f843391ed2568c"
      }
    }
  },
  "nbformat": 4,
  "nbformat_minor": 0
}
