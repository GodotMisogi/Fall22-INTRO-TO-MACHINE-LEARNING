{
 "cells": [
  {
   "cell_type": "markdown",
   "metadata": {},
   "source": [
    "## <h1><center>Course: Introduction to Machine Learning</center></h1>\n",
    "## <h1><center>Assigment 4</center></h1>\n",
    "### <h1><center>Important NOTE: In order to get full grades, for every question, you need to provide the details of your work on how to get to a solution or the end of the proof</center></h1>\n",
    "#### <h1><center>Instructor: Tan Bui-Thanh</center></h1>\n",
    "#### <h1><center>TA: Hai Nguyen</center></h1>\n",
    "##### <h1><center>Due day: 11:59 pm, 21 October, Friday, 2022 </center></h1>\n",
    "#### All solutions must be in one pdf file except codes."
   ]
  },
  {
   "cell_type": "markdown",
   "metadata": {},
   "source": [
    "## **Question 1** (+30) (Probalistic linear regression )\n",
    "Generating 6 data samples for the problem by this polynomial functions (use the below given code for create $x^i$)\n",
    "$$ f(x) = .5 - {x} - .5 {x}^2 - 2 {x}^3 + 5 {x}^4$$\n",
    "Then adding noise:\n",
    "$y^i = f(x^i) + \\epsilon$, where $\\epsilon \\sim \\mathcal{N}(0, \\delta^2)$, and noise level $\\delta = 0.2$\n",
    "\n",
    "The approximation model is 2nd order.\n",
    "\n",
    "In assignment 3, question 3. We have computed the posterior distribution by using $\\theta^*$ (the MAP point) to achieve the mean, and keep the variance the same as the noise level $\\delta^2$. \n",
    "\n",
    "1. Instead of that, using Bayesian Predictions, finding the mean and variance of \n",
    "$$ P(y | x, \\mathcal{D}) = \\int_\\theta P(y \\mid x, \\theta) P(\\theta \\mid \\mathcal{D}) d\\theta. $$\n",
    "\n",
    "2. Plotting the the uncertainty band with the range of x [0,1] (Plotting training data samples will help answer the part Q1.3).\n",
    "3. Discuss the result by comparing with the results that you achieved in assignment 3 (just using the MAP point).\n"
   ]
  },
  {
   "cell_type": "code",
   "execution_count": 21,
   "metadata": {},
   "outputs": [
    {
     "data": {
      "text/plain": [
       "<matplotlib.legend.Legend at 0x7f5c91720630>"
      ]
     },
     "execution_count": 21,
     "metadata": {},
     "output_type": "execute_result"
    },
    {
     "data": {
      "image/png": "[encoded data removed]",
      "text/plain": [
       "<Figure size 576x288 with 1 Axes>"
      ]
     },
     "metadata": {
      "needs_background": "light"
     },
     "output_type": "display_data"
    }
   ],
   "source": [
    "import warnings\n",
    "warnings.filterwarnings(\"ignore\", category=FutureWarning)\n",
    "warnings.filterwarnings('ignore')\n",
    "\n",
    "import numpy as np\n",
    "import matplotlib.pyplot as plt\n",
    "plt.rcParams['figure.figsize'] = [8, 4]\n",
    "np.random.seed(0)\n",
    "\n",
    "## please keep the below codes for generating x, DO NOT CHANGE!\n",
    "# ==========================================================================================\n",
    "n_train_samples = 6\n",
    "X_train = np.sort(np.random.rand(n_train_samples)) \n",
    "\n",
    "order_true = 5\n",
    "true_coefficient = np.array([.5, -1, -.5, -2, 5])\n",
    "\n",
    "def true_fn(X):\n",
    "    f = np.ones((X.shape))\n",
    "    for i in range(order_true):\n",
    "        f += true_coefficient[i] * X**i\n",
    "    return f\n",
    "\n",
    "\n",
    "\n",
    "X_test = np.linspace(0., 1., 100)\n",
    "plt.plot(X_test,true_fn(X_test),'g',label = 'True function')\n",
    "plt.scatter(X_train,true_fn(X_train) + (np.random.randn(n_train_samples)) * 0.2, edgecolor='b', s=20, facecolor = 'b', label=\"Train Samples\")\n",
    "plt.legend()\n",
    "\n",
    "# [CONTINUE YOUR WORK FROM HERE!]\n"
   ]
  },
  {
   "cell_type": "markdown",
   "metadata": {},
   "source": [
    "\n",
    "## **Question 2** (+20 +10 bonous)\n",
    "\n",
    "1. In lecture 7, we can maximize the likelihood \n",
    "$$\\max_{\\mu_k, \\Sigma_k} \\sum_{i : y^{(i)} = k} \\log P(x^{(i)} | y^{(i)} ; \\mu_k, \\Sigma_k)\n",
    "= \\max_{\\mu_k, \\Sigma_k} \\sum_{i : y^{(i)} = k} \\log \\mathcal{N}(x^{(i)} | \\mu_k, \\Sigma_k)$$\n",
    "over the Gaussian parameters. Prove that the empirical means and covariances of each class are\n",
    "\\begin{align*}\n",
    "\\mu_k & = \\frac{\\sum_{i: y^{(i)} = k} x^{(i)}}{n_k} \\\\\n",
    "\\Sigma_k & = \\frac{\\sum_{i: y^{(i)} = k} (x^{(i)} - \\mu_k)(x^{(i)} - \\mu_k)^\\top}{n_k}.\n",
    "\\end{align*}\n",
    "\n",
    "2. (bonous 10+) In lecture 7, using $P_\\theta(y = i) = \\phi_i$ requires the constraint $\\sum_{k = 1}^K\\phi_k = 1$. Using Lagrangian multipliers method shows that $\\theta_k = \\frac{n_k}{n}$. (Please see Spring_21__Lecture_Notes_Math_II.pdf/section 3.6.2 in the suplementary material.)\n"
   ]
  },
  {
   "cell_type": "markdown",
   "metadata": {},
   "source": [
    "## Question 3: (+30) (Generative VS Discriminative Models)\n",
    "\n",
    "We are going to use the Iris flower dataset. We will use three features sepal length (cm), sepal width (cm), petal length (cm) to classify types of flowers in generative model.\n",
    "1. Compute the emprical means and covariance matrices for each type of flowers.\n",
    "2. Generating new flowers, denoted as set $S$, from the learned propability and plotting these generated flowers in 3D. Observe and discuss your results.\n",
    "3. We assume that set $S$ is test data. Classify the test data $S$ using the generative model that you have found in question 1. Discuss you results.\n",
    "4. We assume that set $S$ is test data. Using logistic regression to training the model, then verify the learn model with test data $S$. Compare and discuss your results with question 3.3"
   ]
  },
  {
   "cell_type": "markdown",
   "metadata": {},
   "source": [
    "## Question 4: (+20) (Bernoulli Naive Bayes Model)\n",
    "\n",
    "1. From the lecture 8, we have the formula for the optimal value of $\\psi_{jk}$\n",
    "\\begin{align*}\n",
    "\\psi_{jk} = \\frac{n_{jk}}{n_k}.\n",
    "\\end{align*}\n",
    "Derive this formula.\n",
    "2. In lecture 8, we have classify the the document by bag of word method. We now make a simple comparison between BoW method and logistic regression. The training data: removing 2 class of type 2 and 3 from the data (the code is 4-class data). By that, our data becomes a binary classification problem. Performing BoW method and logistic regression method for the obtained 2-class data. Discussion the results."
   ]
  },
  {
   "cell_type": "code",
   "execution_count": 7,
   "metadata": {},
   "outputs": [
    {
     "name": "stdout",
     "output_type": "stream",
     "text": [
      "NOTE: our data has 4 class group\n",
      "[1 1 3 ... 2 2 2]\n",
      "You need to remove class 2 and 3 to create the 2-class data\n"
     ]
    }
   ],
   "source": [
    "import numpy as np\n",
    "import pandas as pd\n",
    "from sklearn.datasets import fetch_20newsgroups\n",
    "from sklearn.feature_extraction.text import CountVectorizer\n",
    "\n",
    "# for this lecture, we will restrict our attention to just 4 different newsgroups:\n",
    "categories = ['alt.atheism', 'soc.religion.christian', 'comp.graphics', 'sci.med']\n",
    "\n",
    "# load the dataset\n",
    "twenty_train = fetch_20newsgroups(subset='train', categories=categories, shuffle=True, random_state=42)\n",
    "\n",
    "# vectorize the training set\n",
    "count_vect = CountVectorizer(binary=True, max_features=1000)\n",
    "y_train = twenty_train.target\n",
    "X_train = count_vect.fit_transform(twenty_train.data).toarray()\n",
    "X_train.shape\n",
    "\n",
    "print('NOTE: our data has 4 class group')\n",
    "print(y_train)\n",
    "\n",
    "print('You need to remove class 2 and 3 to create the 2-class data')\n"
   ]
  },
  {
   "cell_type": "code",
   "execution_count": null,
   "metadata": {},
   "outputs": [],
   "source": []
  }
 ],
 "metadata": {
  "kernelspec": {
   "display_name": "Python 3",
   "language": "python",
   "name": "python3"
  },
  "language_info": {
   "codemirror_mode": {
    "name": "ipython",
    "version": 3
   },
   "file_extension": ".py",
   "mimetype": "text/x-python",
   "name": "python",
   "nbconvert_exporter": "python",
   "pygments_lexer": "ipython3",
   "version": "3.6.9"
  },
  "vscode": {
   "interpreter": {
    "hash": "21be62648f8e3839c3b4ce05d43053c0ccba5ecc90dec2be15f843391ed2568c"
   }
  }
 },
 "nbformat": 4,
 "nbformat_minor": 2
}
